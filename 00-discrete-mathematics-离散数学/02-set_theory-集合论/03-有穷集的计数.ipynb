{
 "cells": [
  {
   "cell_type": "markdown",
   "metadata": {},
   "source": [
    "# 例6.4 \n",
    "对24名会外语的科技人员进行掌握外语情况的调查.其统计结果如下：会英、日、德和法语的人分别为13,5,10和9人，其中同时会英语和日语的有2人，会英、德和法语中任两种语言的都是4人.**已知会日语的人既不懂法语也不懂德语**，分别求只会一种语言(英、德、法、日)的人数和会3种语言的人数.\n",
    "\n",
    "![venn](./images/例6.4-Venn.png)\n",
    "\n",
    "$$\n",
    "线性程组 = \\begin{cases}\n",
    "x_1 + x_2 + x_3 + x_4 + x_5 + x_6 + x_7 = 24 - 5\\\\\n",
    "x_1 + x_2 + x_3 + x_7 = 13 - 2\\\\ \n",
    "x_1 + x_2 + x_4 + x_6 = 9 \\\\ \n",
    "x_1 + x_3 + x_4 + x_5 = 10 \\\\\n",
    "x_1 + x_2 = 4\\\\\n",
    "x_1 + x_3 = 4\\\\\n",
    "x_1 + x_4 = 4\n",
    "\\end{cases}\n",
    "$$\n",
    "\n",
    "$$ A = \\begin{bmatrix}\n",
    "   1 & 1 & 1 & 1 & 1 & 1 & 1\\\\\n",
    "   1 & 1 & 1 & 0 & 0 & 0 & 1\\\\\n",
    "   1 & 1 & 0 & 1 & 0 & 1 & 0\\\\\n",
    "   1 & 0 & 1 & 1 & 1 & 0 & 0\\\\\n",
    "   1 & 1 & 0 & 0 & 0 & 0 & 0\\\\\n",
    "   1 & 0 & 1 & 0 & 0 & 0 & 0\\\\\n",
    "   1 & 0 & 0 & 1 & 0 & 0 & 0\\\\\n",
    "  \\end{bmatrix} \\tag{4}\n",
    "$$\n",
    "\n",
    "$$ b = \\begin{bmatrix}\n",
    "  24-5\\\\\n",
    "  13-2\\\\\n",
    "  9\\\\\n",
    "  10\\\\\n",
    "  4\\\\\n",
    "  4\\\\\n",
    "  4\\\\\n",
    "  \\end{bmatrix} \\tag{4}\n",
    "$$\n",
    "\n",
    "求解 $Ax = b$"
   ]
  },
  {
   "cell_type": "code",
   "execution_count": 10,
   "metadata": {},
   "outputs": [
    {
     "name": "stdout",
     "output_type": "stream",
     "text": [
      "x[1]=1.0, x[2]=3.0, x[3]=3.0, x[4]=3.0, x[5]=3.0, x[6]=2.0, x[7]=4.0\n"
     ]
    }
   ],
   "source": [
    "import numpy as np\n",
    "A = np.array([[1, 1, 1, 1, 1, 1, 1],\n",
    "              [1, 1, 1, 0, 0, 0, 1],\n",
    "              [1, 1, 0, 1, 0, 1, 0],\n",
    "              [1, 0, 1, 1, 1, 0, 0],\n",
    "              [1, 1, 0, 0, 0, 0, 0],\n",
    "              [1, 0, 1, 0, 0, 0, 0],\n",
    "              [1, 0, 0, 1, 0, 0, 0]])\n",
    "b = np.array([24-5,13-2, 9, 10, 4, 4, 4])\n",
    "x = np.linalg.solve(A, b)\n",
    "for i, e in zip(range(1, len(x) + 1), x):\n",
    "    print('x[{}]={}'.format(i, e), end='')\n",
    "    if(i != len(x)):\n",
    "        print(', ', end='')\n",
    "    else:\n",
    "        print('')"
   ]
  },
  {
   "cell_type": "markdown",
   "metadata": {},
   "source": [
    "结果: 会三种语言的有1人，只会种语言的有12人（日语3人，英语4人、法语2人、德语3人）\n",
    "\n",
    "![例6.4-Venn-1](./images/例6.4-Venn-1.png)"
   ]
  }
 ],
 "metadata": {
  "kernelspec": {
   "display_name": "base",
   "language": "python",
   "name": "python3"
  },
  "language_info": {
   "codemirror_mode": {
    "name": "ipython",
    "version": 3
   },
   "file_extension": ".py",
   "mimetype": "text/x-python",
   "name": "python",
   "nbconvert_exporter": "python",
   "pygments_lexer": "ipython3",
   "version": "3.9.18"
  }
 },
 "nbformat": 4,
 "nbformat_minor": 2
}
